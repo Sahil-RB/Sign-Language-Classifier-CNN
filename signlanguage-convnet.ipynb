{
 "cells": [
  {
   "cell_type": "code",
   "execution_count": 1,
   "metadata": {
    "_cell_guid": "b1076dfc-b9ad-4769-8c92-a6c4dae69d19",
    "_uuid": "8f2839f25d086af736a60e9eeb907d3b93b6e0e5",
    "execution": {
     "iopub.execute_input": "2020-09-26T10:26:38.171867Z",
     "iopub.status.busy": "2020-09-26T10:26:38.171234Z",
     "iopub.status.idle": "2020-09-26T10:26:39.083915Z",
     "shell.execute_reply": "2020-09-26T10:26:39.084652Z"
    },
    "papermill": {
     "duration": 0.939858,
     "end_time": "2020-09-26T10:26:39.084883",
     "exception": false,
     "start_time": "2020-09-26T10:26:38.145025",
     "status": "completed"
    },
    "tags": []
   },
   "outputs": [
    {
     "name": "stdout",
     "output_type": "stream",
     "text": [
      "/kaggle/input/sign-language-mnist/amer_sign2.png\n",
      "/kaggle/input/sign-language-mnist/amer_sign3.png\n",
      "/kaggle/input/sign-language-mnist/sign_mnist_train.csv\n",
      "/kaggle/input/sign-language-mnist/sign_mnist_test.csv\n",
      "/kaggle/input/sign-language-mnist/american_sign_language.PNG\n",
      "/kaggle/input/sign-language-mnist/sign_mnist_test/sign_mnist_test.csv\n",
      "/kaggle/input/sign-language-mnist/sign_mnist_train/sign_mnist_train.csv\n"
     ]
    }
   ],
   "source": [
    "# This Python 3 environment comes with many helpful analytics libraries installed\n",
    "# It is defined by the kaggle/python Docker image: https://github.com/kaggle/docker-python\n",
    "# For example, here's several helpful packages to load\n",
    "\n",
    "import numpy as np # linear algebra\n",
    "import pandas as pd # data processing, CSV file I/O (e.g. pd.read_csv)\n",
    "import seaborn as sns\n",
    "import matplotlib.pyplot as plt\n",
    "%matplotlib inline\n",
    "# Input data files are available in the read-only \"../input/\" directory\n",
    "# For example, running this (by clicking run or pressing Shift+Enter) will list all files under the input directory\n",
    "\n",
    "import os\n",
    "for dirname, _, filenames in os.walk('/kaggle/input'):\n",
    "    for filename in filenames:\n",
    "        print(os.path.join(dirname, filename))\n",
    "\n",
    "# You can write up to 5GB to the current directory (/kaggle/working/) that gets preserved as output when you create a version using \"Save & Run All\" \n",
    "# You can also write temporary files to /kaggle/temp/, but they won't be saved outside of the current session"
   ]
  },
  {
   "cell_type": "code",
   "execution_count": 2,
   "metadata": {
    "_cell_guid": "79c7e3d0-c299-4dcb-8224-4455121ee9b0",
    "_uuid": "d629ff2d2480ee46fbb7e2d37f6b5fab8052498a",
    "execution": {
     "iopub.execute_input": "2020-09-26T10:26:39.131151Z",
     "iopub.status.busy": "2020-09-26T10:26:39.130507Z",
     "iopub.status.idle": "2020-09-26T10:26:42.665552Z",
     "shell.execute_reply": "2020-09-26T10:26:42.665126Z"
    },
    "papermill": {
     "duration": 3.560064,
     "end_time": "2020-09-26T10:26:42.665647",
     "exception": false,
     "start_time": "2020-09-26T10:26:39.105583",
     "status": "completed"
    },
    "tags": []
   },
   "outputs": [
    {
     "data": {
      "text/html": [
       "<div>\n",
       "<style scoped>\n",
       "    .dataframe tbody tr th:only-of-type {\n",
       "        vertical-align: middle;\n",
       "    }\n",
       "\n",
       "    .dataframe tbody tr th {\n",
       "        vertical-align: top;\n",
       "    }\n",
       "\n",
       "    .dataframe thead th {\n",
       "        text-align: right;\n",
       "    }\n",
       "</style>\n",
       "<table border=\"1\" class=\"dataframe\">\n",
       "  <thead>\n",
       "    <tr style=\"text-align: right;\">\n",
       "      <th></th>\n",
       "      <th>label</th>\n",
       "      <th>pixel1</th>\n",
       "      <th>pixel2</th>\n",
       "      <th>pixel3</th>\n",
       "      <th>pixel4</th>\n",
       "      <th>pixel5</th>\n",
       "      <th>pixel6</th>\n",
       "      <th>pixel7</th>\n",
       "      <th>pixel8</th>\n",
       "      <th>pixel9</th>\n",
       "      <th>...</th>\n",
       "      <th>pixel775</th>\n",
       "      <th>pixel776</th>\n",
       "      <th>pixel777</th>\n",
       "      <th>pixel778</th>\n",
       "      <th>pixel779</th>\n",
       "      <th>pixel780</th>\n",
       "      <th>pixel781</th>\n",
       "      <th>pixel782</th>\n",
       "      <th>pixel783</th>\n",
       "      <th>pixel784</th>\n",
       "    </tr>\n",
       "  </thead>\n",
       "  <tbody>\n",
       "    <tr>\n",
       "      <th>0</th>\n",
       "      <td>3</td>\n",
       "      <td>107</td>\n",
       "      <td>118</td>\n",
       "      <td>127</td>\n",
       "      <td>134</td>\n",
       "      <td>139</td>\n",
       "      <td>143</td>\n",
       "      <td>146</td>\n",
       "      <td>150</td>\n",
       "      <td>153</td>\n",
       "      <td>...</td>\n",
       "      <td>207</td>\n",
       "      <td>207</td>\n",
       "      <td>207</td>\n",
       "      <td>207</td>\n",
       "      <td>206</td>\n",
       "      <td>206</td>\n",
       "      <td>206</td>\n",
       "      <td>204</td>\n",
       "      <td>203</td>\n",
       "      <td>202</td>\n",
       "    </tr>\n",
       "    <tr>\n",
       "      <th>1</th>\n",
       "      <td>6</td>\n",
       "      <td>155</td>\n",
       "      <td>157</td>\n",
       "      <td>156</td>\n",
       "      <td>156</td>\n",
       "      <td>156</td>\n",
       "      <td>157</td>\n",
       "      <td>156</td>\n",
       "      <td>158</td>\n",
       "      <td>158</td>\n",
       "      <td>...</td>\n",
       "      <td>69</td>\n",
       "      <td>149</td>\n",
       "      <td>128</td>\n",
       "      <td>87</td>\n",
       "      <td>94</td>\n",
       "      <td>163</td>\n",
       "      <td>175</td>\n",
       "      <td>103</td>\n",
       "      <td>135</td>\n",
       "      <td>149</td>\n",
       "    </tr>\n",
       "    <tr>\n",
       "      <th>2</th>\n",
       "      <td>2</td>\n",
       "      <td>187</td>\n",
       "      <td>188</td>\n",
       "      <td>188</td>\n",
       "      <td>187</td>\n",
       "      <td>187</td>\n",
       "      <td>186</td>\n",
       "      <td>187</td>\n",
       "      <td>188</td>\n",
       "      <td>187</td>\n",
       "      <td>...</td>\n",
       "      <td>202</td>\n",
       "      <td>201</td>\n",
       "      <td>200</td>\n",
       "      <td>199</td>\n",
       "      <td>198</td>\n",
       "      <td>199</td>\n",
       "      <td>198</td>\n",
       "      <td>195</td>\n",
       "      <td>194</td>\n",
       "      <td>195</td>\n",
       "    </tr>\n",
       "    <tr>\n",
       "      <th>3</th>\n",
       "      <td>2</td>\n",
       "      <td>211</td>\n",
       "      <td>211</td>\n",
       "      <td>212</td>\n",
       "      <td>212</td>\n",
       "      <td>211</td>\n",
       "      <td>210</td>\n",
       "      <td>211</td>\n",
       "      <td>210</td>\n",
       "      <td>210</td>\n",
       "      <td>...</td>\n",
       "      <td>235</td>\n",
       "      <td>234</td>\n",
       "      <td>233</td>\n",
       "      <td>231</td>\n",
       "      <td>230</td>\n",
       "      <td>226</td>\n",
       "      <td>225</td>\n",
       "      <td>222</td>\n",
       "      <td>229</td>\n",
       "      <td>163</td>\n",
       "    </tr>\n",
       "    <tr>\n",
       "      <th>4</th>\n",
       "      <td>13</td>\n",
       "      <td>164</td>\n",
       "      <td>167</td>\n",
       "      <td>170</td>\n",
       "      <td>172</td>\n",
       "      <td>176</td>\n",
       "      <td>179</td>\n",
       "      <td>180</td>\n",
       "      <td>184</td>\n",
       "      <td>185</td>\n",
       "      <td>...</td>\n",
       "      <td>92</td>\n",
       "      <td>105</td>\n",
       "      <td>105</td>\n",
       "      <td>108</td>\n",
       "      <td>133</td>\n",
       "      <td>163</td>\n",
       "      <td>157</td>\n",
       "      <td>163</td>\n",
       "      <td>164</td>\n",
       "      <td>179</td>\n",
       "    </tr>\n",
       "  </tbody>\n",
       "</table>\n",
       "<p>5 rows × 785 columns</p>\n",
       "</div>"
      ],
      "text/plain": [
       "   label  pixel1  pixel2  pixel3  pixel4  pixel5  pixel6  pixel7  pixel8  \\\n",
       "0      3     107     118     127     134     139     143     146     150   \n",
       "1      6     155     157     156     156     156     157     156     158   \n",
       "2      2     187     188     188     187     187     186     187     188   \n",
       "3      2     211     211     212     212     211     210     211     210   \n",
       "4     13     164     167     170     172     176     179     180     184   \n",
       "\n",
       "   pixel9  ...  pixel775  pixel776  pixel777  pixel778  pixel779  pixel780  \\\n",
       "0     153  ...       207       207       207       207       206       206   \n",
       "1     158  ...        69       149       128        87        94       163   \n",
       "2     187  ...       202       201       200       199       198       199   \n",
       "3     210  ...       235       234       233       231       230       226   \n",
       "4     185  ...        92       105       105       108       133       163   \n",
       "\n",
       "   pixel781  pixel782  pixel783  pixel784  \n",
       "0       206       204       203       202  \n",
       "1       175       103       135       149  \n",
       "2       198       195       194       195  \n",
       "3       225       222       229       163  \n",
       "4       157       163       164       179  \n",
       "\n",
       "[5 rows x 785 columns]"
      ]
     },
     "execution_count": 2,
     "metadata": {},
     "output_type": "execute_result"
    }
   ],
   "source": [
    "train=pd.read_csv('/kaggle/input/sign-language-mnist/sign_mnist_train.csv')\n",
    "test=pd.read_csv('/kaggle/input/sign-language-mnist/sign_mnist_test.csv')\n",
    "train.head()"
   ]
  },
  {
   "cell_type": "code",
   "execution_count": 3,
   "metadata": {
    "execution": {
     "iopub.execute_input": "2020-09-26T10:26:42.705788Z",
     "iopub.status.busy": "2020-09-26T10:26:42.705151Z",
     "iopub.status.idle": "2020-09-26T10:26:42.710979Z",
     "shell.execute_reply": "2020-09-26T10:26:42.710135Z"
    },
    "papermill": {
     "duration": 0.027461,
     "end_time": "2020-09-26T10:26:42.711104",
     "exception": false,
     "start_time": "2020-09-26T10:26:42.683643",
     "status": "completed"
    },
    "tags": []
   },
   "outputs": [
    {
     "name": "stdout",
     "output_type": "stream",
     "text": [
      "(27455, 785)\n",
      "(7172, 785)\n"
     ]
    }
   ],
   "source": [
    "print(train.shape)\n",
    "print(test.shape)"
   ]
  },
  {
   "cell_type": "code",
   "execution_count": 4,
   "metadata": {
    "execution": {
     "iopub.execute_input": "2020-09-26T10:26:42.825002Z",
     "iopub.status.busy": "2020-09-26T10:26:42.810643Z",
     "iopub.status.idle": "2020-09-26T10:26:42.827553Z",
     "shell.execute_reply": "2020-09-26T10:26:42.827102Z"
    },
    "papermill": {
     "duration": 0.096586,
     "end_time": "2020-09-26T10:26:42.827655",
     "exception": false,
     "start_time": "2020-09-26T10:26:42.731069",
     "status": "completed"
    },
    "tags": []
   },
   "outputs": [],
   "source": [
    "X_train = train.drop('label', axis = 1)\n",
    "X_test = test.drop('label', axis = 1)\n",
    "Y_train = train['label']\n",
    "Y_test = test['label']"
   ]
  },
  {
   "cell_type": "code",
   "execution_count": 5,
   "metadata": {
    "execution": {
     "iopub.execute_input": "2020-09-26T10:26:42.880234Z",
     "iopub.status.busy": "2020-09-26T10:26:42.879492Z",
     "iopub.status.idle": "2020-09-26T10:26:42.884247Z",
     "shell.execute_reply": "2020-09-26T10:26:42.884662Z"
    },
    "papermill": {
     "duration": 0.038427,
     "end_time": "2020-09-26T10:26:42.884788",
     "exception": false,
     "start_time": "2020-09-26T10:26:42.846361",
     "status": "completed"
    },
    "tags": []
   },
   "outputs": [
    {
     "data": {
      "text/html": [
       "<div>\n",
       "<style scoped>\n",
       "    .dataframe tbody tr th:only-of-type {\n",
       "        vertical-align: middle;\n",
       "    }\n",
       "\n",
       "    .dataframe tbody tr th {\n",
       "        vertical-align: top;\n",
       "    }\n",
       "\n",
       "    .dataframe thead th {\n",
       "        text-align: right;\n",
       "    }\n",
       "</style>\n",
       "<table border=\"1\" class=\"dataframe\">\n",
       "  <thead>\n",
       "    <tr style=\"text-align: right;\">\n",
       "      <th></th>\n",
       "      <th>pixel1</th>\n",
       "      <th>pixel2</th>\n",
       "      <th>pixel3</th>\n",
       "      <th>pixel4</th>\n",
       "      <th>pixel5</th>\n",
       "      <th>pixel6</th>\n",
       "      <th>pixel7</th>\n",
       "      <th>pixel8</th>\n",
       "      <th>pixel9</th>\n",
       "      <th>pixel10</th>\n",
       "      <th>...</th>\n",
       "      <th>pixel775</th>\n",
       "      <th>pixel776</th>\n",
       "      <th>pixel777</th>\n",
       "      <th>pixel778</th>\n",
       "      <th>pixel779</th>\n",
       "      <th>pixel780</th>\n",
       "      <th>pixel781</th>\n",
       "      <th>pixel782</th>\n",
       "      <th>pixel783</th>\n",
       "      <th>pixel784</th>\n",
       "    </tr>\n",
       "  </thead>\n",
       "  <tbody>\n",
       "    <tr>\n",
       "      <th>0</th>\n",
       "      <td>107</td>\n",
       "      <td>118</td>\n",
       "      <td>127</td>\n",
       "      <td>134</td>\n",
       "      <td>139</td>\n",
       "      <td>143</td>\n",
       "      <td>146</td>\n",
       "      <td>150</td>\n",
       "      <td>153</td>\n",
       "      <td>156</td>\n",
       "      <td>...</td>\n",
       "      <td>207</td>\n",
       "      <td>207</td>\n",
       "      <td>207</td>\n",
       "      <td>207</td>\n",
       "      <td>206</td>\n",
       "      <td>206</td>\n",
       "      <td>206</td>\n",
       "      <td>204</td>\n",
       "      <td>203</td>\n",
       "      <td>202</td>\n",
       "    </tr>\n",
       "    <tr>\n",
       "      <th>1</th>\n",
       "      <td>155</td>\n",
       "      <td>157</td>\n",
       "      <td>156</td>\n",
       "      <td>156</td>\n",
       "      <td>156</td>\n",
       "      <td>157</td>\n",
       "      <td>156</td>\n",
       "      <td>158</td>\n",
       "      <td>158</td>\n",
       "      <td>157</td>\n",
       "      <td>...</td>\n",
       "      <td>69</td>\n",
       "      <td>149</td>\n",
       "      <td>128</td>\n",
       "      <td>87</td>\n",
       "      <td>94</td>\n",
       "      <td>163</td>\n",
       "      <td>175</td>\n",
       "      <td>103</td>\n",
       "      <td>135</td>\n",
       "      <td>149</td>\n",
       "    </tr>\n",
       "    <tr>\n",
       "      <th>2</th>\n",
       "      <td>187</td>\n",
       "      <td>188</td>\n",
       "      <td>188</td>\n",
       "      <td>187</td>\n",
       "      <td>187</td>\n",
       "      <td>186</td>\n",
       "      <td>187</td>\n",
       "      <td>188</td>\n",
       "      <td>187</td>\n",
       "      <td>186</td>\n",
       "      <td>...</td>\n",
       "      <td>202</td>\n",
       "      <td>201</td>\n",
       "      <td>200</td>\n",
       "      <td>199</td>\n",
       "      <td>198</td>\n",
       "      <td>199</td>\n",
       "      <td>198</td>\n",
       "      <td>195</td>\n",
       "      <td>194</td>\n",
       "      <td>195</td>\n",
       "    </tr>\n",
       "    <tr>\n",
       "      <th>3</th>\n",
       "      <td>211</td>\n",
       "      <td>211</td>\n",
       "      <td>212</td>\n",
       "      <td>212</td>\n",
       "      <td>211</td>\n",
       "      <td>210</td>\n",
       "      <td>211</td>\n",
       "      <td>210</td>\n",
       "      <td>210</td>\n",
       "      <td>211</td>\n",
       "      <td>...</td>\n",
       "      <td>235</td>\n",
       "      <td>234</td>\n",
       "      <td>233</td>\n",
       "      <td>231</td>\n",
       "      <td>230</td>\n",
       "      <td>226</td>\n",
       "      <td>225</td>\n",
       "      <td>222</td>\n",
       "      <td>229</td>\n",
       "      <td>163</td>\n",
       "    </tr>\n",
       "    <tr>\n",
       "      <th>4</th>\n",
       "      <td>164</td>\n",
       "      <td>167</td>\n",
       "      <td>170</td>\n",
       "      <td>172</td>\n",
       "      <td>176</td>\n",
       "      <td>179</td>\n",
       "      <td>180</td>\n",
       "      <td>184</td>\n",
       "      <td>185</td>\n",
       "      <td>186</td>\n",
       "      <td>...</td>\n",
       "      <td>92</td>\n",
       "      <td>105</td>\n",
       "      <td>105</td>\n",
       "      <td>108</td>\n",
       "      <td>133</td>\n",
       "      <td>163</td>\n",
       "      <td>157</td>\n",
       "      <td>163</td>\n",
       "      <td>164</td>\n",
       "      <td>179</td>\n",
       "    </tr>\n",
       "  </tbody>\n",
       "</table>\n",
       "<p>5 rows × 784 columns</p>\n",
       "</div>"
      ],
      "text/plain": [
       "   pixel1  pixel2  pixel3  pixel4  pixel5  pixel6  pixel7  pixel8  pixel9  \\\n",
       "0     107     118     127     134     139     143     146     150     153   \n",
       "1     155     157     156     156     156     157     156     158     158   \n",
       "2     187     188     188     187     187     186     187     188     187   \n",
       "3     211     211     212     212     211     210     211     210     210   \n",
       "4     164     167     170     172     176     179     180     184     185   \n",
       "\n",
       "   pixel10  ...  pixel775  pixel776  pixel777  pixel778  pixel779  pixel780  \\\n",
       "0      156  ...       207       207       207       207       206       206   \n",
       "1      157  ...        69       149       128        87        94       163   \n",
       "2      186  ...       202       201       200       199       198       199   \n",
       "3      211  ...       235       234       233       231       230       226   \n",
       "4      186  ...        92       105       105       108       133       163   \n",
       "\n",
       "   pixel781  pixel782  pixel783  pixel784  \n",
       "0       206       204       203       202  \n",
       "1       175       103       135       149  \n",
       "2       198       195       194       195  \n",
       "3       225       222       229       163  \n",
       "4       157       163       164       179  \n",
       "\n",
       "[5 rows x 784 columns]"
      ]
     },
     "execution_count": 5,
     "metadata": {},
     "output_type": "execute_result"
    }
   ],
   "source": [
    "X_train.head()"
   ]
  },
  {
   "cell_type": "code",
   "execution_count": 6,
   "metadata": {
    "execution": {
     "iopub.execute_input": "2020-09-26T10:26:42.928126Z",
     "iopub.status.busy": "2020-09-26T10:26:42.927430Z",
     "iopub.status.idle": "2020-09-26T10:26:42.932286Z",
     "shell.execute_reply": "2020-09-26T10:26:42.931872Z"
    },
    "papermill": {
     "duration": 0.028381,
     "end_time": "2020-09-26T10:26:42.932384",
     "exception": false,
     "start_time": "2020-09-26T10:26:42.904003",
     "status": "completed"
    },
    "tags": []
   },
   "outputs": [
    {
     "data": {
      "text/plain": [
       "0     3\n",
       "1     6\n",
       "2     2\n",
       "3     2\n",
       "4    13\n",
       "Name: label, dtype: int64"
      ]
     },
     "execution_count": 6,
     "metadata": {},
     "output_type": "execute_result"
    }
   ],
   "source": [
    "Y_train.head()"
   ]
  },
  {
   "cell_type": "code",
   "execution_count": 7,
   "metadata": {
    "execution": {
     "iopub.execute_input": "2020-09-26T10:26:42.975679Z",
     "iopub.status.busy": "2020-09-26T10:26:42.975064Z",
     "iopub.status.idle": "2020-09-26T10:26:43.238709Z",
     "shell.execute_reply": "2020-09-26T10:26:43.238253Z"
    },
    "papermill": {
     "duration": 0.286985,
     "end_time": "2020-09-26T10:26:43.238824",
     "exception": false,
     "start_time": "2020-09-26T10:26:42.951839",
     "status": "completed"
    },
    "tags": []
   },
   "outputs": [
    {
     "data": {
      "text/plain": [
       "<matplotlib.axes._subplots.AxesSubplot at 0x7f5578913b50>"
      ]
     },
     "execution_count": 7,
     "metadata": {},
     "output_type": "execute_result"
    },
    {
     "data": {
      "image/png": "[encoded data removed]",
      "text/plain": [
       "<Figure size 864x504 with 1 Axes>"
      ]
     },
     "metadata": {
      "needs_background": "light"
     },
     "output_type": "display_data"
    }
   ],
   "source": [
    "plt.figure(figsize = (12,7))\n",
    "sns.countplot(x = 'label', data = train)"
   ]
  },
  {
   "cell_type": "markdown",
   "metadata": {
    "papermill": {
     "duration": 0.020568,
     "end_time": "2020-09-26T10:26:43.280675",
     "exception": false,
     "start_time": "2020-09-26T10:26:43.260107",
     "status": "completed"
    },
    "tags": []
   },
   "source": [
    "There are 24 letters, with J(9) and Z(25) being excluded. They seem to be equally distributed"
   ]
  },
  {
   "cell_type": "code",
   "execution_count": 8,
   "metadata": {
    "execution": {
     "iopub.execute_input": "2020-09-26T10:26:43.327221Z",
     "iopub.status.busy": "2020-09-26T10:26:43.326412Z",
     "iopub.status.idle": "2020-09-26T10:26:43.330171Z",
     "shell.execute_reply": "2020-09-26T10:26:43.329733Z"
    },
    "papermill": {
     "duration": 0.028946,
     "end_time": "2020-09-26T10:26:43.330258",
     "exception": false,
     "start_time": "2020-09-26T10:26:43.301312",
     "status": "completed"
    },
    "tags": []
   },
   "outputs": [
    {
     "data": {
      "text/plain": [
       "(27455, 28, 28, 1)"
      ]
     },
     "execution_count": 8,
     "metadata": {},
     "output_type": "execute_result"
    }
   ],
   "source": [
    "images_train = X_train.values\n",
    "images_train = images_train.reshape(-1, 28,28,1)\n",
    "images_train.shape"
   ]
  },
  {
   "cell_type": "code",
   "execution_count": 9,
   "metadata": {
    "execution": {
     "iopub.execute_input": "2020-09-26T10:26:43.378265Z",
     "iopub.status.busy": "2020-09-26T10:26:43.377319Z",
     "iopub.status.idle": "2020-09-26T10:26:43.380679Z",
     "shell.execute_reply": "2020-09-26T10:26:43.381123Z"
    },
    "papermill": {
     "duration": 0.030043,
     "end_time": "2020-09-26T10:26:43.381222",
     "exception": false,
     "start_time": "2020-09-26T10:26:43.351179",
     "status": "completed"
    },
    "tags": []
   },
   "outputs": [
    {
     "data": {
      "text/plain": [
       "(7172, 28, 28, 1)"
      ]
     },
     "execution_count": 9,
     "metadata": {},
     "output_type": "execute_result"
    }
   ],
   "source": [
    "images_test = X_test.values\n",
    "images_test = images_test.reshape(-1,28,28,1)\n",
    "images_test.shape"
   ]
  },
  {
   "cell_type": "code",
   "execution_count": 10,
   "metadata": {
    "execution": {
     "iopub.execute_input": "2020-09-26T10:26:43.429442Z",
     "iopub.status.busy": "2020-09-26T10:26:43.428630Z",
     "iopub.status.idle": "2020-09-26T10:26:43.458424Z",
     "shell.execute_reply": "2020-09-26T10:26:43.457999Z"
    },
    "papermill": {
     "duration": 0.056063,
     "end_time": "2020-09-26T10:26:43.458514",
     "exception": false,
     "start_time": "2020-09-26T10:26:43.402451",
     "status": "completed"
    },
    "tags": []
   },
   "outputs": [
    {
     "data": {
      "text/plain": [
       "159.2910081989452"
      ]
     },
     "execution_count": 10,
     "metadata": {},
     "output_type": "execute_result"
    }
   ],
   "source": [
    "images_train.mean()"
   ]
  },
  {
   "cell_type": "code",
   "execution_count": 11,
   "metadata": {
    "execution": {
     "iopub.execute_input": "2020-09-26T10:26:43.507398Z",
     "iopub.status.busy": "2020-09-26T10:26:43.506437Z",
     "iopub.status.idle": "2020-09-26T10:26:43.592385Z",
     "shell.execute_reply": "2020-09-26T10:26:43.591888Z"
    },
    "papermill": {
     "duration": 0.112137,
     "end_time": "2020-09-26T10:26:43.592482",
     "exception": false,
     "start_time": "2020-09-26T10:26:43.480345",
     "status": "completed"
    },
    "tags": []
   },
   "outputs": [],
   "source": [
    "images_train = images_train / 255\n",
    "images_test = images_test / 255"
   ]
  },
  {
   "cell_type": "code",
   "execution_count": 12,
   "metadata": {
    "execution": {
     "iopub.execute_input": "2020-09-26T10:26:43.641216Z",
     "iopub.status.busy": "2020-09-26T10:26:43.640334Z",
     "iopub.status.idle": "2020-09-26T10:26:43.658838Z",
     "shell.execute_reply": "2020-09-26T10:26:43.658418Z"
    },
    "papermill": {
     "duration": 0.044356,
     "end_time": "2020-09-26T10:26:43.658935",
     "exception": false,
     "start_time": "2020-09-26T10:26:43.614579",
     "status": "completed"
    },
    "tags": []
   },
   "outputs": [
    {
     "data": {
      "text/plain": [
       "0.6246706203880206"
      ]
     },
     "execution_count": 12,
     "metadata": {},
     "output_type": "execute_result"
    }
   ],
   "source": [
    "images_train.mean()"
   ]
  },
  {
   "cell_type": "code",
   "execution_count": 13,
   "metadata": {
    "execution": {
     "iopub.execute_input": "2020-09-26T10:26:43.717898Z",
     "iopub.status.busy": "2020-09-26T10:26:43.711424Z",
     "iopub.status.idle": "2020-09-26T10:26:44.084331Z",
     "shell.execute_reply": "2020-09-26T10:26:44.083894Z"
    },
    "papermill": {
     "duration": 0.403297,
     "end_time": "2020-09-26T10:26:44.084430",
     "exception": false,
     "start_time": "2020-09-26T10:26:43.681133",
     "status": "completed"
    },
    "tags": []
   },
   "outputs": [
    {
     "data": {
      "text/plain": [
       "Text(0.5, 1.0, 'label: 13  letter: M')"
      ]
     },
     "execution_count": 13,
     "metadata": {},
     "output_type": "execute_result"
    },
    {
     "data": {
      "image/png": "[encoded data removed]",
      "text/plain": [
       "<Figure size 432x288 with 4 Axes>"
      ]
     },
     "metadata": {
      "needs_background": "light"
     },
     "output_type": "display_data"
    }
   ],
   "source": [
    "fig,axe=plt.subplots(2,2)\n",
    "fig.suptitle('Preview of dataset')\n",
    "axe[0,0].imshow(images_train[0].reshape(28,28),cmap='gray')\n",
    "axe[0,0].set_title('label: 3  letter: C')\n",
    "axe[0,1].imshow(images_train[1].reshape(28,28),cmap='gray')\n",
    "axe[0,1].set_title('label: 6  letter: F')\n",
    "axe[1,0].imshow(images_train[2].reshape(28,28),cmap='gray')\n",
    "axe[1,0].set_title('label: 2  letter: B')\n",
    "axe[1,1].imshow(images_train[4].reshape(28,28),cmap='gray')\n",
    "axe[1,1].set_title('label: 13  letter: M')"
   ]
  },
  {
   "cell_type": "code",
   "execution_count": 14,
   "metadata": {
    "execution": {
     "iopub.execute_input": "2020-09-26T10:26:44.138579Z",
     "iopub.status.busy": "2020-09-26T10:26:44.137941Z",
     "iopub.status.idle": "2020-09-26T10:26:44.202938Z",
     "shell.execute_reply": "2020-09-26T10:26:44.202467Z"
    },
    "papermill": {
     "duration": 0.093253,
     "end_time": "2020-09-26T10:26:44.203045",
     "exception": false,
     "start_time": "2020-09-26T10:26:44.109792",
     "status": "completed"
    },
    "tags": []
   },
   "outputs": [],
   "source": [
    "from sklearn.preprocessing import LabelBinarizer\n",
    "lb = LabelBinarizer()\n",
    "Y_train = lb.fit_transform(Y_train)\n",
    "Y_test = lb.fit_transform(Y_test)"
   ]
  },
  {
   "cell_type": "code",
   "execution_count": 15,
   "metadata": {
    "execution": {
     "iopub.execute_input": "2020-09-26T10:26:44.256923Z",
     "iopub.status.busy": "2020-09-26T10:26:44.256208Z",
     "iopub.status.idle": "2020-09-26T10:26:44.260148Z",
     "shell.execute_reply": "2020-09-26T10:26:44.259693Z"
    },
    "papermill": {
     "duration": 0.032845,
     "end_time": "2020-09-26T10:26:44.260242",
     "exception": false,
     "start_time": "2020-09-26T10:26:44.227397",
     "status": "completed"
    },
    "tags": []
   },
   "outputs": [
    {
     "name": "stdout",
     "output_type": "stream",
     "text": [
      "(27455, 24)\n",
      "(7172, 24)\n"
     ]
    }
   ],
   "source": [
    "print(Y_train.shape)\n",
    "print(Y_test.shape)"
   ]
  },
  {
   "cell_type": "code",
   "execution_count": 16,
   "metadata": {
    "execution": {
     "iopub.execute_input": "2020-09-26T10:26:44.312801Z",
     "iopub.status.busy": "2020-09-26T10:26:44.312116Z",
     "iopub.status.idle": "2020-09-26T10:26:44.363619Z",
     "shell.execute_reply": "2020-09-26T10:26:44.363173Z"
    },
    "papermill": {
     "duration": 0.079178,
     "end_time": "2020-09-26T10:26:44.363723",
     "exception": false,
     "start_time": "2020-09-26T10:26:44.284545",
     "status": "completed"
    },
    "tags": []
   },
   "outputs": [],
   "source": [
    "from sklearn.model_selection import train_test_split"
   ]
  },
  {
   "cell_type": "code",
   "execution_count": 17,
   "metadata": {
    "execution": {
     "iopub.execute_input": "2020-09-26T10:26:44.426326Z",
     "iopub.status.busy": "2020-09-26T10:26:44.425138Z",
     "iopub.status.idle": "2020-09-26T10:26:44.734723Z",
     "shell.execute_reply": "2020-09-26T10:26:44.733995Z"
    },
    "papermill": {
     "duration": 0.346639,
     "end_time": "2020-09-26T10:26:44.734908",
     "exception": false,
     "start_time": "2020-09-26T10:26:44.388269",
     "status": "completed"
    },
    "tags": []
   },
   "outputs": [],
   "source": [
    "images_train, images_val, Y_train, Y_val = train_test_split(images_train, Y_train, test_size = 0.07, random_state = 5)\n"
   ]
  },
  {
   "cell_type": "code",
   "execution_count": 18,
   "metadata": {
    "execution": {
     "iopub.execute_input": "2020-09-26T10:26:44.837432Z",
     "iopub.status.busy": "2020-09-26T10:26:44.834454Z",
     "iopub.status.idle": "2020-09-26T10:26:44.840312Z",
     "shell.execute_reply": "2020-09-26T10:26:44.839595Z"
    },
    "papermill": {
     "duration": 0.056134,
     "end_time": "2020-09-26T10:26:44.840433",
     "exception": false,
     "start_time": "2020-09-26T10:26:44.784299",
     "status": "completed"
    },
    "tags": []
   },
   "outputs": [
    {
     "name": "stdout",
     "output_type": "stream",
     "text": [
      "(25533, 28, 28, 1)\n",
      "(1922, 28, 28, 1)\n"
     ]
    }
   ],
   "source": [
    "print(images_train.shape)\n",
    "print(images_val.shape)"
   ]
  },
  {
   "cell_type": "code",
   "execution_count": 19,
   "metadata": {
    "execution": {
     "iopub.execute_input": "2020-09-26T10:26:44.929803Z",
     "iopub.status.busy": "2020-09-26T10:26:44.928981Z",
     "iopub.status.idle": "2020-09-26T10:26:50.139909Z",
     "shell.execute_reply": "2020-09-26T10:26:50.138877Z"
    },
    "papermill": {
     "duration": 5.259785,
     "end_time": "2020-09-26T10:26:50.140029",
     "exception": false,
     "start_time": "2020-09-26T10:26:44.880244",
     "status": "completed"
    },
    "tags": []
   },
   "outputs": [],
   "source": [
    "import tensorflow as tf\n",
    "from tensorflow import keras\n",
    "from tensorflow.keras.models import Sequential\n",
    "from tensorflow.keras.optimizers import Adam\n",
    "from tensorflow.keras.layers import Conv2D\n",
    "from tensorflow.keras.layers import MaxPooling2D\n",
    "from tensorflow.keras.layers import Dense\n",
    "from tensorflow.keras.layers import Flatten\n",
    "from tensorflow.keras.layers import Dropout\n",
    "from tensorflow.keras.layers import BatchNormalization\n",
    "from tensorflow.keras.layers import AveragePooling2D\n",
    "from tensorflow.keras.layers import ReLU"
   ]
  },
  {
   "cell_type": "code",
   "execution_count": 20,
   "metadata": {
    "execution": {
     "iopub.execute_input": "2020-09-26T10:26:50.198718Z",
     "iopub.status.busy": "2020-09-26T10:26:50.198188Z",
     "iopub.status.idle": "2020-09-26T10:26:52.848949Z",
     "shell.execute_reply": "2020-09-26T10:26:52.848435Z"
    },
    "papermill": {
     "duration": 2.68355,
     "end_time": "2020-09-26T10:26:52.849062",
     "exception": false,
     "start_time": "2020-09-26T10:26:50.165512",
     "status": "completed"
    },
    "tags": []
   },
   "outputs": [],
   "source": [
    "conv_model = Sequential()\n",
    "conv_model.add(Conv2D(filters = 32, kernel_size = (3,3), padding = 'same', input_shape = (28,28,1), activation = 'relu'))\n",
    "conv_model.add(MaxPooling2D(pool_size = (2,2)))\n",
    "conv_model.add(Conv2D(filters = 64, kernel_size = (3,3), padding = 'same', activation='relu'))\n",
    "conv_model.add(MaxPooling2D(pool_size = (2,2)))\n",
    "conv_model.add(Flatten())\n",
    "conv_model.add(Dense(units = 256, activation='relu', kernel_regularizer='l2'))\n",
    "conv_model.add(Dropout(0.2))\n",
    "conv_model.add(Dense(units = 24, activation='softmax'))\n",
    "\n",
    "\n"
   ]
  },
  {
   "cell_type": "code",
   "execution_count": 21,
   "metadata": {
    "execution": {
     "iopub.execute_input": "2020-09-26T10:26:52.907797Z",
     "iopub.status.busy": "2020-09-26T10:26:52.903270Z",
     "iopub.status.idle": "2020-09-26T10:26:52.913449Z",
     "shell.execute_reply": "2020-09-26T10:26:52.912794Z"
    },
    "papermill": {
     "duration": 0.039233,
     "end_time": "2020-09-26T10:26:52.913579",
     "exception": false,
     "start_time": "2020-09-26T10:26:52.874346",
     "status": "completed"
    },
    "tags": []
   },
   "outputs": [
    {
     "name": "stdout",
     "output_type": "stream",
     "text": [
      "Model: \"sequential\"\n",
      "_________________________________________________________________\n",
      "Layer (type)                 Output Shape              Param #   \n",
      "=================================================================\n",
      "conv2d (Conv2D)              (None, 28, 28, 32)        320       \n",
      "_________________________________________________________________\n",
      "max_pooling2d (MaxPooling2D) (None, 14, 14, 32)        0         \n",
      "_________________________________________________________________\n",
      "conv2d_1 (Conv2D)            (None, 14, 14, 64)        18496     \n",
      "_________________________________________________________________\n",
      "max_pooling2d_1 (MaxPooling2 (None, 7, 7, 64)          0         \n",
      "_________________________________________________________________\n",
      "flatten (Flatten)            (None, 3136)              0         \n",
      "_________________________________________________________________\n",
      "dense (Dense)                (None, 256)               803072    \n",
      "_________________________________________________________________\n",
      "dropout (Dropout)            (None, 256)               0         \n",
      "_________________________________________________________________\n",
      "dense_1 (Dense)              (None, 24)                6168      \n",
      "=================================================================\n",
      "Total params: 828,056\n",
      "Trainable params: 828,056\n",
      "Non-trainable params: 0\n",
      "_________________________________________________________________\n"
     ]
    }
   ],
   "source": [
    "conv_model.summary()"
   ]
  },
  {
   "cell_type": "code",
   "execution_count": 22,
   "metadata": {
    "execution": {
     "iopub.execute_input": "2020-09-26T10:26:52.977937Z",
     "iopub.status.busy": "2020-09-26T10:26:52.976032Z",
     "iopub.status.idle": "2020-09-26T10:26:52.983444Z",
     "shell.execute_reply": "2020-09-26T10:26:52.982893Z"
    },
    "papermill": {
     "duration": 0.042908,
     "end_time": "2020-09-26T10:26:52.983547",
     "exception": false,
     "start_time": "2020-09-26T10:26:52.940639",
     "status": "completed"
    },
    "tags": []
   },
   "outputs": [],
   "source": [
    "conv_model.compile(optimizer = Adam(), loss = 'categorical_crossentropy', metrics = ['accuracy'])"
   ]
  },
  {
   "cell_type": "code",
   "execution_count": 23,
   "metadata": {
    "execution": {
     "iopub.execute_input": "2020-09-26T10:26:53.041943Z",
     "iopub.status.busy": "2020-09-26T10:26:53.041420Z",
     "iopub.status.idle": "2020-09-26T10:27:21.584227Z",
     "shell.execute_reply": "2020-09-26T10:27:21.585354Z"
    },
    "papermill": {
     "duration": 28.57371,
     "end_time": "2020-09-26T10:27:21.585542",
     "exception": false,
     "start_time": "2020-09-26T10:26:53.011832",
     "status": "completed"
    },
    "tags": []
   },
   "outputs": [
    {
     "name": "stdout",
     "output_type": "stream",
     "text": [
      "Epoch 1/10\n",
      "798/798 - 3s - loss: 1.5790 - accuracy: 0.6391 - val_loss: 0.6122 - val_accuracy: 0.9422\n",
      "Epoch 2/10\n",
      "798/798 - 2s - loss: 0.5850 - accuracy: 0.9088 - val_loss: 0.3653 - val_accuracy: 0.9875\n",
      "Epoch 3/10\n",
      "798/798 - 2s - loss: 0.4053 - accuracy: 0.9522 - val_loss: 0.3042 - val_accuracy: 0.9828\n",
      "Epoch 4/10\n",
      "798/798 - 2s - loss: 0.3329 - accuracy: 0.9657 - val_loss: 0.2800 - val_accuracy: 0.9813\n",
      "Epoch 5/10\n",
      "798/798 - 3s - loss: 0.3059 - accuracy: 0.9709 - val_loss: 0.2151 - val_accuracy: 0.9964\n",
      "Epoch 6/10\n",
      "798/798 - 3s - loss: 0.2847 - accuracy: 0.9743 - val_loss: 0.2444 - val_accuracy: 0.9906\n",
      "Epoch 7/10\n",
      "798/798 - 2s - loss: 0.2685 - accuracy: 0.9770 - val_loss: 0.2090 - val_accuracy: 1.0000\n",
      "Epoch 8/10\n",
      "798/798 - 2s - loss: 0.2481 - accuracy: 0.9805 - val_loss: 0.1907 - val_accuracy: 0.9995\n",
      "Epoch 9/10\n",
      "798/798 - 2s - loss: 0.2364 - accuracy: 0.9807 - val_loss: 0.1863 - val_accuracy: 0.9948\n",
      "Epoch 10/10\n",
      "798/798 - 2s - loss: 0.2244 - accuracy: 0.9828 - val_loss: 0.1877 - val_accuracy: 0.9932\n"
     ]
    },
    {
     "data": {
      "text/plain": [
       "<tensorflow.python.keras.callbacks.History at 0x7f5520352a90>"
      ]
     },
     "execution_count": 23,
     "metadata": {},
     "output_type": "execute_result"
    }
   ],
   "source": [
    "conv_model.fit(images_train, Y_train, epochs = 10, validation_data = (images_val, Y_val), verbose = 2)"
   ]
  },
  {
   "cell_type": "code",
   "execution_count": 24,
   "metadata": {
    "execution": {
     "iopub.execute_input": "2020-09-26T10:27:21.670078Z",
     "iopub.status.busy": "2020-09-26T10:27:21.669172Z",
     "iopub.status.idle": "2020-09-26T10:27:22.271740Z",
     "shell.execute_reply": "2020-09-26T10:27:22.271265Z"
    },
    "papermill": {
     "duration": 0.63978,
     "end_time": "2020-09-26T10:27:22.271884",
     "exception": false,
     "start_time": "2020-09-26T10:27:21.632104",
     "status": "completed"
    },
    "tags": []
   },
   "outputs": [
    {
     "name": "stdout",
     "output_type": "stream",
     "text": [
      "225/225 [==============================] - 1s 2ms/step - loss: 0.5215 - accuracy: 0.8919\n"
     ]
    }
   ],
   "source": [
    "ls,acc = conv_model.evaluate(images_test, Y_test)"
   ]
  },
  {
   "cell_type": "code",
   "execution_count": 25,
   "metadata": {
    "execution": {
     "iopub.execute_input": "2020-09-26T10:27:22.349506Z",
     "iopub.status.busy": "2020-09-26T10:27:22.348414Z",
     "iopub.status.idle": "2020-09-26T10:27:22.352173Z",
     "shell.execute_reply": "2020-09-26T10:27:22.351300Z"
    },
    "papermill": {
     "duration": 0.045153,
     "end_time": "2020-09-26T10:27:22.352339",
     "exception": false,
     "start_time": "2020-09-26T10:27:22.307186",
     "status": "completed"
    },
    "tags": []
   },
   "outputs": [
    {
     "name": "stdout",
     "output_type": "stream",
     "text": [
      "Test set loss:0.5214\n",
      "Test set accuracy:0.8919\n"
     ]
    }
   ],
   "source": [
    "print('Test set loss:'+str(ls)[0:6])\n",
    "print('Test set accuracy:'+str(acc)[0:6])"
   ]
  },
  {
   "cell_type": "markdown",
   "metadata": {
    "papermill": {
     "duration": 0.035285,
     "end_time": "2020-09-26T10:27:22.424222",
     "exception": false,
     "start_time": "2020-09-26T10:27:22.388937",
     "status": "completed"
    },
    "tags": []
   },
   "source": [
    "This model gives 89% accuracy on the test set. Let's see if we can get a better accuracy from a deeper model"
   ]
  },
  {
   "cell_type": "code",
   "execution_count": 26,
   "metadata": {
    "execution": {
     "iopub.execute_input": "2020-09-26T10:27:22.508734Z",
     "iopub.status.busy": "2020-09-26T10:27:22.507628Z",
     "iopub.status.idle": "2020-09-26T10:27:22.531074Z",
     "shell.execute_reply": "2020-09-26T10:27:22.531465Z"
    },
    "papermill": {
     "duration": 0.072041,
     "end_time": "2020-09-26T10:27:22.531576",
     "exception": false,
     "start_time": "2020-09-26T10:27:22.459535",
     "status": "completed"
    },
    "tags": []
   },
   "outputs": [],
   "source": [
    "conv_deep_model = Sequential()\n",
    "conv_deep_model.add(Conv2D(filters = 32, kernel_size = (3,3), padding = 'same'))\n",
    "conv_deep_model.add(BatchNormalization())\n",
    "conv_deep_model.add(ReLU())\n",
    "conv_deep_model.add(MaxPooling2D(pool_size = (2,2)))\n",
    "\n",
    "conv_deep_model.add(Conv2D(filters = 64, kernel_size = (5,5), padding = 'same'))\n",
    "conv_deep_model.add(BatchNormalization())\n",
    "conv_deep_model.add(ReLU())\n",
    "conv_deep_model.add(MaxPooling2D(pool_size = (2,2)))\n",
    "\n",
    "conv_deep_model.add(Conv2D(filters = 32, kernel_size = (3,3), padding = 'same'))\n",
    "conv_deep_model.add(BatchNormalization())\n",
    "conv_deep_model.add(ReLU())\n",
    "conv_deep_model.add(AveragePooling2D(pool_size = (2,2)))\n",
    "\n",
    "conv_deep_model.add(Flatten())\n",
    "conv_deep_model.add(Dense(units = 256, activation = 'relu', kernel_regularizer = 'l2'))\n",
    "conv_deep_model.add(Dropout(0.2))\n",
    "conv_deep_model.add(Dense(units = 24, activation = 'softmax'))"
   ]
  },
  {
   "cell_type": "code",
   "execution_count": 27,
   "metadata": {
    "execution": {
     "iopub.execute_input": "2020-09-26T10:27:22.611784Z",
     "iopub.status.busy": "2020-09-26T10:27:22.610202Z",
     "iopub.status.idle": "2020-09-26T10:27:22.617646Z",
     "shell.execute_reply": "2020-09-26T10:27:22.617181Z"
    },
    "papermill": {
     "duration": 0.050586,
     "end_time": "2020-09-26T10:27:22.617728",
     "exception": false,
     "start_time": "2020-09-26T10:27:22.567142",
     "status": "completed"
    },
    "tags": []
   },
   "outputs": [],
   "source": [
    "conv_deep_model.compile(optimizer = Adam(), loss = 'categorical_crossentropy', metrics = ['accuracy'])"
   ]
  },
  {
   "cell_type": "code",
   "execution_count": 28,
   "metadata": {
    "execution": {
     "iopub.execute_input": "2020-09-26T10:27:22.693361Z",
     "iopub.status.busy": "2020-09-26T10:27:22.692372Z",
     "iopub.status.idle": "2020-09-26T10:28:06.275600Z",
     "shell.execute_reply": "2020-09-26T10:28:06.275177Z"
    },
    "papermill": {
     "duration": 43.622876,
     "end_time": "2020-09-26T10:28:06.275713",
     "exception": false,
     "start_time": "2020-09-26T10:27:22.652837",
     "status": "completed"
    },
    "tags": []
   },
   "outputs": [
    {
     "name": "stdout",
     "output_type": "stream",
     "text": [
      "Epoch 1/15\n",
      "798/798 - 3s - loss: 0.9762 - accuracy: 0.8954 - val_loss: 0.2702 - val_accuracy: 0.9781\n",
      "Epoch 2/15\n",
      "798/798 - 3s - loss: 0.1103 - accuracy: 0.9981 - val_loss: 0.0765 - val_accuracy: 0.9979\n",
      "Epoch 3/15\n",
      "798/798 - 3s - loss: 0.0975 - accuracy: 0.9941 - val_loss: 0.8542 - val_accuracy: 0.7268\n",
      "Epoch 4/15\n",
      "798/798 - 3s - loss: 0.0770 - accuracy: 0.9954 - val_loss: 0.0600 - val_accuracy: 0.9990\n",
      "Epoch 5/15\n",
      "798/798 - 3s - loss: 0.0773 - accuracy: 0.9955 - val_loss: 0.0286 - val_accuracy: 1.0000\n",
      "Epoch 6/15\n",
      "798/798 - 3s - loss: 0.0714 - accuracy: 0.9951 - val_loss: 0.1039 - val_accuracy: 0.9943\n",
      "Epoch 7/15\n",
      "798/798 - 3s - loss: 0.0536 - accuracy: 0.9962 - val_loss: 0.5524 - val_accuracy: 0.8892\n",
      "Epoch 8/15\n",
      "798/798 - 3s - loss: 0.0501 - accuracy: 0.9991 - val_loss: 0.0158 - val_accuracy: 1.0000\n",
      "Epoch 9/15\n",
      "798/798 - 3s - loss: 0.0154 - accuracy: 0.9998 - val_loss: 0.4689 - val_accuracy: 0.8590\n",
      "Epoch 10/15\n",
      "798/798 - 3s - loss: 0.0738 - accuracy: 0.9952 - val_loss: 0.0126 - val_accuracy: 1.0000\n",
      "Epoch 11/15\n",
      "798/798 - 3s - loss: 0.0594 - accuracy: 0.9969 - val_loss: 0.0136 - val_accuracy: 1.0000\n",
      "Epoch 12/15\n",
      "798/798 - 3s - loss: 0.0508 - accuracy: 0.9976 - val_loss: 0.0130 - val_accuracy: 1.0000\n",
      "Epoch 13/15\n",
      "798/798 - 3s - loss: 0.0503 - accuracy: 0.9975 - val_loss: 0.0121 - val_accuracy: 1.0000\n",
      "Epoch 14/15\n",
      "798/798 - 3s - loss: 0.0593 - accuracy: 0.9967 - val_loss: 0.0328 - val_accuracy: 1.0000\n",
      "Epoch 15/15\n",
      "798/798 - 3s - loss: 0.0537 - accuracy: 0.9968 - val_loss: 0.0549 - val_accuracy: 1.0000\n"
     ]
    },
    {
     "data": {
      "text/plain": [
       "<tensorflow.python.keras.callbacks.History at 0x7f55200c21d0>"
      ]
     },
     "execution_count": 28,
     "metadata": {},
     "output_type": "execute_result"
    }
   ],
   "source": [
    "conv_deep_model.fit(images_train, Y_train, epochs = 15, validation_data = (images_val, Y_val), verbose = 2)"
   ]
  },
  {
   "cell_type": "code",
   "execution_count": 29,
   "metadata": {
    "execution": {
     "iopub.execute_input": "2020-09-26T10:28:06.370930Z",
     "iopub.status.busy": "2020-09-26T10:28:06.369957Z",
     "iopub.status.idle": "2020-09-26T10:28:06.995183Z",
     "shell.execute_reply": "2020-09-26T10:28:06.995579Z"
    },
    "papermill": {
     "duration": 0.674678,
     "end_time": "2020-09-26T10:28:06.995715",
     "exception": false,
     "start_time": "2020-09-26T10:28:06.321037",
     "status": "completed"
    },
    "tags": []
   },
   "outputs": [
    {
     "name": "stdout",
     "output_type": "stream",
     "text": [
      "225/225 [==============================] - 1s 2ms/step - loss: 0.1085 - accuracy: 0.9770\n"
     ]
    }
   ],
   "source": [
    "ls,acc = conv_deep_model.evaluate(images_test, Y_test)"
   ]
  },
  {
   "cell_type": "code",
   "execution_count": 30,
   "metadata": {
    "execution": {
     "iopub.execute_input": "2020-09-26T10:28:07.098989Z",
     "iopub.status.busy": "2020-09-26T10:28:07.096483Z",
     "iopub.status.idle": "2020-09-26T10:28:07.102462Z",
     "shell.execute_reply": "2020-09-26T10:28:07.101810Z"
    },
    "papermill": {
     "duration": 0.058991,
     "end_time": "2020-09-26T10:28:07.102587",
     "exception": false,
     "start_time": "2020-09-26T10:28:07.043596",
     "status": "completed"
    },
    "tags": []
   },
   "outputs": [
    {
     "name": "stdout",
     "output_type": "stream",
     "text": [
      "Test set loss:0.1084\n",
      "Test set accuracy:0.9769\n"
     ]
    }
   ],
   "source": [
    "print('Test set loss:'+str(ls)[0:6])\n",
    "print('Test set accuracy:'+str(acc)[0:6])"
   ]
  },
  {
   "cell_type": "markdown",
   "metadata": {
    "papermill": {
     "duration": 0.048102,
     "end_time": "2020-09-26T10:28:07.200397",
     "exception": false,
     "start_time": "2020-09-26T10:28:07.152295",
     "status": "completed"
    },
    "tags": []
   },
   "source": [
    "This is giving us 97.6% accuracy on the test set!"
   ]
  }
 ],
 "metadata": {
  "kernelspec": {
   "display_name": "Python 3",
   "language": "python",
   "name": "python3"
  },
  "language_info": {
   "codemirror_mode": {
    "name": "ipython",
    "version": 3
   },
   "file_extension": ".py",
   "mimetype": "text/x-python",
   "name": "python",
   "nbconvert_exporter": "python",
   "pygments_lexer": "ipython3",
   "version": "3.7.0"
  },
  "papermill": {
   "duration": 94.881335,
   "end_time": "2020-09-26T10:28:09.141445",
   "environment_variables": {},
   "exception": null,
   "input_path": "__notebook__.ipynb",
   "output_path": "__notebook__.ipynb",
   "parameters": {},
   "start_time": "2020-09-26T10:26:34.260110",
   "version": "2.1.0"
  }
 },
 "nbformat": 4,
 "nbformat_minor": 4
}
